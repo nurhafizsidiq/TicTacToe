{
 "cells": [
  {
   "cell_type": "markdown",
   "metadata": {},
   "source": [
    "___\n",
    "\n",
    "<a href='https://www.udemy.com/user/joseportilla/'><img src='../Pierian_Data_Logo.png'/></a>\n",
    "___\n",
    "<center><em>Content Copyright by Pierian Data</em></center>"
   ]
  },
  {
   "cell_type": "markdown",
   "metadata": {},
   "source": [
    "# Milestone Project 1\n",
    "## Congratulations on making it to your first milestone!\n",
    "You've already learned a ton and are ready to work on a real project.\n",
    "\n",
    "Your assignment: Create a Tic Tac Toe game. You are free to use any IDE you like.\n",
    "\n",
    "Here are the requirements:\n",
    "\n",
    "* 2 players should be able to play the game (both sitting at the same computer)\n",
    "* The board should be printed out every time a player makes a move\n",
    "* You should be able to accept input of the player position and then place a symbol on the board\n",
    "\n",
    "Feel free to use Google to help you figure anything out (but don't just Google \"Tic Tac Toe in Python\" otherwise you won't learn anything!) Keep in mind that this project can take anywhere between several hours to several days.\n",
    "\n",
    "There are 4 Jupyter Notebooks related to this assignment:\n",
    "\n",
    "* This Assignment Notebook\n",
    "* A \"Walkthrough Steps Workbook\" Notebook\n",
    "* A \"Complete Walkthrough Solution\" Notebook\n",
    "* An \"Advanced Solution\" Notebook\n",
    "\n",
    "I encourage you to just try to start the project on your own without referencing any of the notebooks. If you get stuck, check out the next lecture which is a text lecture with helpful hints and steps. If you're still stuck after that, then check out the Walkthrough Steps Workbook, which breaks up the project in steps for you to solve. Still stuck? Then check out the Complete Walkthrough Solution video for more help on approaching the project!"
   ]
  },
  {
   "cell_type": "markdown",
   "metadata": {},
   "source": [
    "There are parts of this that will be a struggle...and that is good! I have complete faith that if you have made it this far through the course you have all the tools and knowledge to tackle this project. Remember, it's totally open book, so take your time, do a little research, and remember:\n",
    "\n",
    "## HAVE FUN!"
   ]
  },
  {
   "cell_type": "markdown",
   "metadata": {},
   "source": [
    "Algoritma:\n",
    "\n",
    "1. Fungsi untuk display game\n",
    "2. Fungsi untuk mengambil input satu kali dari user\n",
    "    - tanyakan nama\n",
    "    - tanyakan simbol yang ingin digunakan\n",
    "3. Mulai permainan\n",
    "    - Tampilkan board\n",
    "    - Pemain 1 memilih posisi\n",
    "        - Tampilkan board\n",
    "        - Jika membentuk tiga garis maka menang, jika tidak maka lanjut\n",
    "    - Pemain 2 memilih posisi\n",
    "        - Tampilkan board\n",
    "        - Jika membentuk tiga garis maka menang, jika tidak maka lanjut\n",
    "    - Jika pemain 1 menang\n",
    "        - print(selamat pemain1 menang)\n",
    "        - tanyakan apakah ingin lanjut bermain?\n",
    "    - Jika pemain 2 menang\n",
    "        - print(selamat pemain2 menang)\n",
    "        - tanyakan apakah ingin lanjut bermain?"
   ]
  },
  {
   "cell_type": "code",
   "execution_count": 1,
   "metadata": {},
   "outputs": [],
   "source": [
    "from IPython.display import clear_output\n",
    "def display_game(board):\n",
    "    clear_output()\n",
    "    print('Tic Tac Toe Board\\n')\n",
    "    print('     |     |     ')\n",
    "    print('  ' + board[7] + '  |  ' + board[8] + '  |  ' + board[9] + '  ')\n",
    "    print('     |     |     ')\n",
    "    print(17*'-')\n",
    "    print('     |     |     ')\n",
    "    print('  ' + board[4] + '  |  ' + board[5] + '  |  ' + board[6] + '  ')\n",
    "    print('     |     |     ')\n",
    "    print(17*'-')\n",
    "    print('     |     |     ')\n",
    "    print('  ' + board[1] + '  |  ' + board[2] + '  |  ' + board[3] + '  ')\n",
    "    print('     |     |     ')\n"
   ]
  },
  {
   "cell_type": "code",
   "execution_count": 2,
   "metadata": {},
   "outputs": [],
   "source": [
    "def determining_player():\n",
    "    player_name1 = input('Player 1: What is your name? ')\n",
    "    print('Hi, ' + player_name1)\n",
    "    player_name2 = input('\\nPlayer 2: What is your name? ')\n",
    "    print('Hi, ' + player_name2)\n",
    "    which_player = \"wrong\"\n",
    "    which_player_val = ['X', 'O']\n",
    "    while which_player not in which_player_val:\n",
    "        which_player = input('\\n' + player_name1 + \", Which symbol do you want to use (choose X or O): \").upper()\n",
    "        if which_player not in which_player_val:\n",
    "            clear_output()\n",
    "            print(\"Please choose X or O only\")\n",
    "        else:\n",
    "            if which_player == \"X\":\n",
    "                X_player = player_name1\n",
    "                O_player = player_name2\n",
    "                print(player_name1 + ': X')\n",
    "                print(player_name2 + ': O')\n",
    "            else:\n",
    "                X_player = player_name2\n",
    "                O_player = player_name1\n",
    "                print(player_name1 + ': O')\n",
    "                print(player_name2 + ': X')\n",
    "            print('\\nLet\\'s play')\n",
    "    return X_player, O_player"
   ]
  },
  {
   "cell_type": "code",
   "execution_count": 3,
   "metadata": {},
   "outputs": [],
   "source": [
    "def check_Xplayer_win(board):\n",
    "    if board[1] == \"X\" and board[2] == \"X\" and board[3] == \"X\":\n",
    "        return True\n",
    "    elif board[4] == \"X\" and board[5] == \"X\" and board[6] == \"X\":\n",
    "        return True\n",
    "    elif board[7] == \"X\" and board[8] == \"X\" and board[9] == \"X\":\n",
    "        return True\n",
    "    elif board[1] == \"X\" and board[4] == \"X\" and board[7] == \"X\":\n",
    "        return True\n",
    "    elif board[2] == \"X\" and board[5] == \"X\" and board[8] == \"X\":\n",
    "        return True\n",
    "    elif board[3] == \"X\" and board[6] == \"X\" and board[9] == \"X\":\n",
    "        return True\n",
    "    elif board[1] == \"X\" and board[5] == \"X\" and board[9] == \"X\":\n",
    "        return True\n",
    "    elif board[3] == \"X\" and board[5] == \"X\" and board[7] == \"X\":\n",
    "        return True\n",
    "    else:\n",
    "        return False"
   ]
  },
  {
   "cell_type": "code",
   "execution_count": 4,
   "metadata": {},
   "outputs": [],
   "source": [
    "def check_Oplayer_win(board):\n",
    "    if board[1] == \"O\" and board[2] == \"O\" and board[3] == \"O\":\n",
    "        return True\n",
    "    elif board[4] == \"O\" and board[5] == \"O\" and board[6] == \"O\":\n",
    "        return True\n",
    "    elif board[7] == \"O\" and board[8] == \"O\" and board[9] == \"O\":\n",
    "        return True\n",
    "    elif board[1] == \"O\" and board[4] == \"O\" and board[7] == \"O\":\n",
    "        return True\n",
    "    elif board[2] == \"O\" and board[5] == \"O\" and board[8] == \"O\":\n",
    "        return True\n",
    "    elif board[3] == \"O\" and board[6] == \"O\" and board[9] == \"O\":\n",
    "        return True\n",
    "    elif board[1] == \"O\" and board[5] == \"O\" and board[9] == \"O\":\n",
    "        return True\n",
    "    elif board[3] == \"O\" and board[5] == \"O\" and board[7] == \"O\":\n",
    "        return True\n",
    "    else:\n",
    "        return False"
   ]
  },
  {
   "cell_type": "code",
   "execution_count": 5,
   "metadata": {},
   "outputs": [],
   "source": [
    "def Xplayer_choice(X_player, board):\n",
    "    Xposition = \"False\"\n",
    "    within_range = False\n",
    "    while Xposition.isdigit() == False or within_range == False:\n",
    "        \n",
    "        Xposition = input(X_player + ', choose the board (1-9), please\\n')\n",
    "        \n",
    "        if Xposition.isdigit() == False:\n",
    "            clear_output()\n",
    "            print(\"Please only enter digit \")\n",
    "        elif board[int(Xposition)].isspace() == False:\n",
    "            print(\"It's not empty space\\n\")\n",
    "        else:\n",
    "            if int(Xposition) not in range (1,10):\n",
    "                clear_output()\n",
    "                print(\"Please only choose digit between 1-9 \")\n",
    "            \n",
    "            else:\n",
    "                within_range = True\n",
    "    return int(Xposition)"
   ]
  },
  {
   "cell_type": "code",
   "execution_count": 6,
   "metadata": {},
   "outputs": [],
   "source": [
    "def Oplayer_choice(O_player, board):\n",
    "    Oposition = \"False\"\n",
    "    within_range = False\n",
    "    while Oposition.isdigit() == False or within_range == False:\n",
    "        \n",
    "        Oposition = input(O_player + ', choose the board (1-9), please\\n')\n",
    "        \n",
    "        if Oposition.isdigit() == False:\n",
    "            clear_output()\n",
    "            print(\"Please only enter digit \")\n",
    "        elif board[int(Oposition)].isspace() == False:\n",
    "            print(\"It's not empty space\\n\")\n",
    "            \n",
    "        else:\n",
    "            if int(Oposition) not in range (1,10):\n",
    "                clear_output()\n",
    "                print(\"Please only choose digit between 1-9\")\n",
    "            \n",
    "            else:\n",
    "                within_range = True\n",
    "    return int(Oposition)"
   ]
  },
  {
   "cell_type": "code",
   "execution_count": 7,
   "metadata": {},
   "outputs": [],
   "source": [
    "def continue_play():\n",
    "    choice = \"Wrong\"\n",
    "    while choice not in ['y', 'n']:\n",
    "    \n",
    "        choice = input(\"Do you want to play again (Y/N)? \").lower()\n",
    "        if choice not in ['y', 'n']:\n",
    "            clear_output()\n",
    "            print('Only choose Y/N')\n",
    "    if choice == 'y':\n",
    "        return True\n",
    "    else:\n",
    "        return False"
   ]
  },
  {
   "cell_type": "code",
   "execution_count": 8,
   "metadata": {},
   "outputs": [],
   "source": [
    "def check_draw(board):\n",
    "    j = 0\n",
    "    for i in board:\n",
    "        if i.isspace() == False:\n",
    "            j += 1\n",
    "    if j >= 9:\n",
    "        return True\n",
    "    else:\n",
    "        return False"
   ]
  },
  {
   "cell_type": "code",
   "execution_count": 13,
   "metadata": {},
   "outputs": [],
   "source": [
    "def game_on(board, game_play):\n",
    "    X_player, O_player = determining_player()\n",
    "    while game_play == True:\n",
    "        while True:\n",
    "            display_game(board)\n",
    "            Xposition = Xplayer_choice(X_player, board)\n",
    "            board[Xposition] = \"X\"\n",
    "            if check_Xplayer_win(board):\n",
    "                display_game(board)\n",
    "                print(\"Congratz \" + X_player + \" You Won the Game\\n\")\n",
    "                break\n",
    "            elif check_draw(board):\n",
    "                display_game(board)\n",
    "                print(\"It's Draw\\n\")\n",
    "                break\n",
    "            display_game(board)\n",
    "            Oposition = Oplayer_choice(O_player,board)\n",
    "            board[Oposition] = \"O\"\n",
    "            if check_Oplayer_win(board):\n",
    "                display_game(board)\n",
    "                print(\"Congratz \" + O_player + \" You Won the Game\\n\")\n",
    "                break\n",
    "            elif check_draw(board):\n",
    "                display_game(board)\n",
    "                print(\"It's Draw\\n\")\n",
    "                break\n",
    "        do_continue = continue_play()\n",
    "        if do_continue:\n",
    "            clear_output()\n",
    "            board = [' ', ' ', ' ', ' ', ' ', ' ', ' ', ' ', ' ', ' ',]\n",
    "            game_on(board, True)\n",
    "        else:\n",
    "            print(\"Thanks to play\")\n",
    "            break"
   ]
  },
  {
   "cell_type": "code",
   "execution_count": 14,
   "metadata": {},
   "outputs": [
    {
     "name": "stdout",
     "output_type": "stream",
     "text": [
      "Tic Tac Toe Board\n",
      "\n",
      "     |     |     \n",
      "     |  O  |     \n",
      "     |     |     \n",
      "-----------------\n",
      "     |     |     \n",
      "     |  O  |  X  \n",
      "     |     |     \n",
      "-----------------\n",
      "     |     |     \n",
      "  X  |  O  |  X  \n",
      "     |     |     \n",
      "Congratz hanun You Won the Game\n",
      "\n",
      "Do you want to play again (Y/N)? n\n",
      "Thanks to play\n"
     ]
    }
   ],
   "source": [
    "board = [' ', ' ', ' ', ' ', ' ', ' ', ' ', ' ', ' ', ' ',]\n",
    "game_on(board, True)"
   ]
  }
 ],
 "metadata": {
  "kernelspec": {
   "display_name": "Python 3",
   "language": "python",
   "name": "python3"
  },
  "language_info": {
   "codemirror_mode": {
    "name": "ipython",
    "version": 3
   },
   "file_extension": ".py",
   "mimetype": "text/x-python",
   "name": "python",
   "nbconvert_exporter": "python",
   "pygments_lexer": "ipython3",
   "version": "3.8.8"
  }
 },
 "nbformat": 4,
 "nbformat_minor": 1
}
